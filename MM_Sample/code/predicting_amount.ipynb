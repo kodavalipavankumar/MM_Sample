{
 "cells": [
  {
   "cell_type": "code",
   "execution_count": 1,
   "metadata": {},
   "outputs": [],
   "source": [
    "# importing packages\n",
    "import numpy as np\n",
    "import pandas as pd\n",
    "from matplotlib import pyplot as plt\n",
    "from sklearn.linear_model import LinearRegression\n",
    "from sklearn.metrics import mean_squared_error, r2_score"
   ]
  },
  {
   "cell_type": "raw",
   "metadata": {},
   "source": [
    "f - frequency\n",
    "m - monetary"
   ]
  },
  {
   "cell_type": "code",
   "execution_count": 2,
   "metadata": {},
   "outputs": [],
   "source": [
    "# loading 2010-12-01 customers f, m metrics\n",
    "df_1 = pd.read_csv('C:/Users/KodavaliPavanKumar/Desktop/Training/github_folders/Projects/MM_Sample/Data/df_2010_12_01_fm.csv')"
   ]
  },
  {
   "cell_type": "code",
   "execution_count": 3,
   "metadata": {},
   "outputs": [
    {
     "data": {
      "text/plain": [
       "(95, 4)"
      ]
     },
     "execution_count": 3,
     "metadata": {},
     "output_type": "execute_result"
    }
   ],
   "source": [
    "df_1.shape"
   ]
  },
  {
   "cell_type": "code",
   "execution_count": 4,
   "metadata": {},
   "outputs": [
    {
     "data": {
      "text/html": [
       "<div>\n",
       "<style scoped>\n",
       "    .dataframe tbody tr th:only-of-type {\n",
       "        vertical-align: middle;\n",
       "    }\n",
       "\n",
       "    .dataframe tbody tr th {\n",
       "        vertical-align: top;\n",
       "    }\n",
       "\n",
       "    .dataframe thead th {\n",
       "        text-align: right;\n",
       "    }\n",
       "</style>\n",
       "<table border=\"1\" class=\"dataframe\">\n",
       "  <thead>\n",
       "    <tr style=\"text-align: right;\">\n",
       "      <th></th>\n",
       "      <th>CustomerID</th>\n",
       "      <th>Amount</th>\n",
       "      <th>Quantity</th>\n",
       "      <th>frequency</th>\n",
       "    </tr>\n",
       "  </thead>\n",
       "  <tbody>\n",
       "    <tr>\n",
       "      <th>0</th>\n",
       "      <td>12431.0</td>\n",
       "      <td>358.25</td>\n",
       "      <td>107</td>\n",
       "      <td>14</td>\n",
       "    </tr>\n",
       "    <tr>\n",
       "      <th>1</th>\n",
       "      <td>12433.0</td>\n",
       "      <td>1919.14</td>\n",
       "      <td>1852</td>\n",
       "      <td>73</td>\n",
       "    </tr>\n",
       "    <tr>\n",
       "      <th>2</th>\n",
       "      <td>12583.0</td>\n",
       "      <td>855.86</td>\n",
       "      <td>449</td>\n",
       "      <td>20</td>\n",
       "    </tr>\n",
       "    <tr>\n",
       "      <th>3</th>\n",
       "      <td>12662.0</td>\n",
       "      <td>261.48</td>\n",
       "      <td>157</td>\n",
       "      <td>15</td>\n",
       "    </tr>\n",
       "    <tr>\n",
       "      <th>4</th>\n",
       "      <td>12748.0</td>\n",
       "      <td>4.95</td>\n",
       "      <td>1</td>\n",
       "      <td>1</td>\n",
       "    </tr>\n",
       "  </tbody>\n",
       "</table>\n",
       "</div>"
      ],
      "text/plain": [
       "   CustomerID   Amount  Quantity  frequency\n",
       "0     12431.0   358.25       107         14\n",
       "1     12433.0  1919.14      1852         73\n",
       "2     12583.0   855.86       449         20\n",
       "3     12662.0   261.48       157         15\n",
       "4     12748.0     4.95         1          1"
      ]
     },
     "execution_count": 4,
     "metadata": {},
     "output_type": "execute_result"
    }
   ],
   "source": [
    "df_1.head(5)"
   ]
  },
  {
   "cell_type": "code",
   "execution_count": 5,
   "metadata": {},
   "outputs": [
    {
     "data": {
      "text/plain": [
       "CustomerID    0\n",
       "Amount        0\n",
       "Quantity      0\n",
       "frequency     0\n",
       "dtype: int64"
      ]
     },
     "execution_count": 5,
     "metadata": {},
     "output_type": "execute_result"
    }
   ],
   "source": [
    "df_1.isnull().sum()"
   ]
  },
  {
   "cell_type": "code",
   "execution_count": 6,
   "metadata": {},
   "outputs": [],
   "source": [
    "# loading 2010-12-02 customers f, m metrics\n",
    "df_2 = pd.read_csv('C:/Users/KodavaliPavanKumar/Desktop/Training/github_folders/Projects/MM_Sample/Data/df_2010_12_02_fm.csv')"
   ]
  },
  {
   "cell_type": "code",
   "execution_count": 7,
   "metadata": {},
   "outputs": [
    {
     "data": {
      "text/plain": [
       "(98, 4)"
      ]
     },
     "execution_count": 7,
     "metadata": {},
     "output_type": "execute_result"
    }
   ],
   "source": [
    "df_2.shape"
   ]
  },
  {
   "cell_type": "code",
   "execution_count": 8,
   "metadata": {},
   "outputs": [
    {
     "data": {
      "text/plain": [
       "CustomerID    0\n",
       "Amount        0\n",
       "Quantity      0\n",
       "frequency     0\n",
       "dtype: int64"
      ]
     },
     "execution_count": 8,
     "metadata": {},
     "output_type": "execute_result"
    }
   ],
   "source": [
    "df_2.isnull().sum()"
   ]
  },
  {
   "cell_type": "code",
   "execution_count": 9,
   "metadata": {},
   "outputs": [
    {
     "data": {
      "text/html": [
       "<div>\n",
       "<style scoped>\n",
       "    .dataframe tbody tr th:only-of-type {\n",
       "        vertical-align: middle;\n",
       "    }\n",
       "\n",
       "    .dataframe tbody tr th {\n",
       "        vertical-align: top;\n",
       "    }\n",
       "\n",
       "    .dataframe thead th {\n",
       "        text-align: right;\n",
       "    }\n",
       "</style>\n",
       "<table border=\"1\" class=\"dataframe\">\n",
       "  <thead>\n",
       "    <tr style=\"text-align: right;\">\n",
       "      <th></th>\n",
       "      <th>CustomerID</th>\n",
       "      <th>Amount</th>\n",
       "      <th>Quantity</th>\n",
       "      <th>frequency</th>\n",
       "    </tr>\n",
       "  </thead>\n",
       "  <tbody>\n",
       "    <tr>\n",
       "      <th>0</th>\n",
       "      <td>12738.0</td>\n",
       "      <td>155.35</td>\n",
       "      <td>148</td>\n",
       "      <td>11</td>\n",
       "    </tr>\n",
       "    <tr>\n",
       "      <th>1</th>\n",
       "      <td>12748.0</td>\n",
       "      <td>4.25</td>\n",
       "      <td>1</td>\n",
       "      <td>1</td>\n",
       "    </tr>\n",
       "    <tr>\n",
       "      <th>2</th>\n",
       "      <td>12855.0</td>\n",
       "      <td>38.10</td>\n",
       "      <td>30</td>\n",
       "      <td>3</td>\n",
       "    </tr>\n",
       "    <tr>\n",
       "      <th>3</th>\n",
       "      <td>12915.0</td>\n",
       "      <td>199.65</td>\n",
       "      <td>41</td>\n",
       "      <td>13</td>\n",
       "    </tr>\n",
       "    <tr>\n",
       "      <th>4</th>\n",
       "      <td>12971.0</td>\n",
       "      <td>45.12</td>\n",
       "      <td>84</td>\n",
       "      <td>5</td>\n",
       "    </tr>\n",
       "  </tbody>\n",
       "</table>\n",
       "</div>"
      ],
      "text/plain": [
       "   CustomerID  Amount  Quantity  frequency\n",
       "0     12738.0  155.35       148         11\n",
       "1     12748.0    4.25         1          1\n",
       "2     12855.0   38.10        30          3\n",
       "3     12915.0  199.65        41         13\n",
       "4     12971.0   45.12        84          5"
      ]
     },
     "execution_count": 9,
     "metadata": {},
     "output_type": "execute_result"
    }
   ],
   "source": [
    "df_2.head()"
   ]
  },
  {
   "cell_type": "markdown",
   "metadata": {},
   "source": [
    "# Modeling"
   ]
  },
  {
   "cell_type": "markdown",
   "metadata": {},
   "source": [
    "## for 2010-12-01"
   ]
  },
  {
   "cell_type": "code",
   "execution_count": 10,
   "metadata": {},
   "outputs": [],
   "source": [
    "# seperating target and input\n",
    "X_1 = df_1[['Quantity','frequency']]\n",
    "y_1 = df_1[['Amount']]"
   ]
  },
  {
   "cell_type": "code",
   "execution_count": 11,
   "metadata": {},
   "outputs": [
    {
     "name": "stdout",
     "output_type": "stream",
     "text": [
      "(66, 2) (29, 2) (66, 1) (29, 1)\n"
     ]
    }
   ],
   "source": [
    "# test and train split\n",
    "from sklearn.model_selection import train_test_split\n",
    "X_train, X_test, y_train, y_test = train_test_split(X_1, y_1, test_size=0.3)\n",
    "print(X_train.shape, X_test.shape, y_train.shape, y_test.shape)"
   ]
  },
  {
   "cell_type": "code",
   "execution_count": 12,
   "metadata": {},
   "outputs": [
    {
     "data": {
      "text/plain": [
       "LinearRegression()"
      ]
     },
     "execution_count": 12,
     "metadata": {},
     "output_type": "execute_result"
    }
   ],
   "source": [
    "# creating model object\n",
    "regressor = LinearRegression()  \n",
    "regressor.fit(X_train, y_train)"
   ]
  },
  {
   "cell_type": "code",
   "execution_count": 13,
   "metadata": {},
   "outputs": [
    {
     "name": "stdout",
     "output_type": "stream",
     "text": [
      "[2.89554189]\n",
      "[[1.83528712 1.10934349]]\n"
     ]
    }
   ],
   "source": [
    "#To retrieve the intercept:\n",
    "print(regressor.intercept_)\n",
    "\n",
    "#For retrieving the slope:\n",
    "print(regressor.coef_)"
   ]
  },
  {
   "cell_type": "code",
   "execution_count": 14,
   "metadata": {},
   "outputs": [],
   "source": [
    "# predictions for test data\n",
    "y_pred = regressor.predict(X_test)"
   ]
  },
  {
   "cell_type": "code",
   "execution_count": 15,
   "metadata": {
    "collapsed": true
   },
   "outputs": [
    {
     "data": {
      "text/plain": [
       "array([[ 355.84],\n",
       "       [ 163.34],\n",
       "       [ 192.6 ],\n",
       "       [  34.8 ],\n",
       "       [  81.75],\n",
       "       [ 223.9 ],\n",
       "       [ 161.  ],\n",
       "       [ 390.79],\n",
       "       [ 256.44],\n",
       "       [ 855.86],\n",
       "       [ 274.93],\n",
       "       [ 233.45],\n",
       "       [ 261.48],\n",
       "       [ 507.88],\n",
       "       [ 783.11],\n",
       "       [ 156.1 ],\n",
       "       [ 350.4 ],\n",
       "       [ 369.5 ],\n",
       "       [ 115.65],\n",
       "       [ 489.6 ],\n",
       "       [ 226.14],\n",
       "       [ 277.05],\n",
       "       [ 101.55],\n",
       "       [ 532.43],\n",
       "       [ 430.6 ],\n",
       "       [ 358.25],\n",
       "       [1919.14],\n",
       "       [ 443.96],\n",
       "       [ 799.4 ]])"
      ]
     },
     "execution_count": 15,
     "metadata": {},
     "output_type": "execute_result"
    }
   ],
   "source": [
    "y_test_arr = np.array(y_test)\n",
    "y_test_arr"
   ]
  },
  {
   "cell_type": "code",
   "execution_count": 16,
   "metadata": {
    "collapsed": true
   },
   "outputs": [
    {
     "data": {
      "text/html": [
       "<div>\n",
       "<style scoped>\n",
       "    .dataframe tbody tr th:only-of-type {\n",
       "        vertical-align: middle;\n",
       "    }\n",
       "\n",
       "    .dataframe tbody tr th {\n",
       "        vertical-align: top;\n",
       "    }\n",
       "\n",
       "    .dataframe thead th {\n",
       "        text-align: right;\n",
       "    }\n",
       "</style>\n",
       "<table border=\"1\" class=\"dataframe\">\n",
       "  <thead>\n",
       "    <tr style=\"text-align: right;\">\n",
       "      <th></th>\n",
       "      <th>Quantity</th>\n",
       "      <th>frequency</th>\n",
       "      <th>Actual_amt</th>\n",
       "      <th>Predicted_amt</th>\n",
       "    </tr>\n",
       "  </thead>\n",
       "  <tbody>\n",
       "    <tr>\n",
       "      <th>0</th>\n",
       "      <td>188</td>\n",
       "      <td>17</td>\n",
       "      <td>355.84</td>\n",
       "      <td>366.788359</td>\n",
       "    </tr>\n",
       "    <tr>\n",
       "      <th>1</th>\n",
       "      <td>71</td>\n",
       "      <td>34</td>\n",
       "      <td>163.34</td>\n",
       "      <td>170.918606</td>\n",
       "    </tr>\n",
       "    <tr>\n",
       "      <th>2</th>\n",
       "      <td>97</td>\n",
       "      <td>2</td>\n",
       "      <td>192.60</td>\n",
       "      <td>183.137079</td>\n",
       "    </tr>\n",
       "    <tr>\n",
       "      <th>3</th>\n",
       "      <td>24</td>\n",
       "      <td>1</td>\n",
       "      <td>34.80</td>\n",
       "      <td>48.051776</td>\n",
       "    </tr>\n",
       "    <tr>\n",
       "      <th>4</th>\n",
       "      <td>19</td>\n",
       "      <td>5</td>\n",
       "      <td>81.75</td>\n",
       "      <td>43.312715</td>\n",
       "    </tr>\n",
       "    <tr>\n",
       "      <th>5</th>\n",
       "      <td>102</td>\n",
       "      <td>15</td>\n",
       "      <td>223.90</td>\n",
       "      <td>206.734980</td>\n",
       "    </tr>\n",
       "    <tr>\n",
       "      <th>6</th>\n",
       "      <td>38</td>\n",
       "      <td>9</td>\n",
       "      <td>161.00</td>\n",
       "      <td>82.620544</td>\n",
       "    </tr>\n",
       "    <tr>\n",
       "      <th>7</th>\n",
       "      <td>228</td>\n",
       "      <td>59</td>\n",
       "      <td>390.79</td>\n",
       "      <td>486.792270</td>\n",
       "    </tr>\n",
       "    <tr>\n",
       "      <th>8</th>\n",
       "      <td>144</td>\n",
       "      <td>8</td>\n",
       "      <td>256.44</td>\n",
       "      <td>276.051634</td>\n",
       "    </tr>\n",
       "    <tr>\n",
       "      <th>9</th>\n",
       "      <td>449</td>\n",
       "      <td>20</td>\n",
       "      <td>855.86</td>\n",
       "      <td>849.126326</td>\n",
       "    </tr>\n",
       "    <tr>\n",
       "      <th>10</th>\n",
       "      <td>113</td>\n",
       "      <td>48</td>\n",
       "      <td>274.93</td>\n",
       "      <td>263.531473</td>\n",
       "    </tr>\n",
       "    <tr>\n",
       "      <th>11</th>\n",
       "      <td>111</td>\n",
       "      <td>14</td>\n",
       "      <td>233.45</td>\n",
       "      <td>222.143220</td>\n",
       "    </tr>\n",
       "    <tr>\n",
       "      <th>12</th>\n",
       "      <td>157</td>\n",
       "      <td>15</td>\n",
       "      <td>261.48</td>\n",
       "      <td>307.675771</td>\n",
       "    </tr>\n",
       "    <tr>\n",
       "      <th>13</th>\n",
       "      <td>260</td>\n",
       "      <td>14</td>\n",
       "      <td>507.88</td>\n",
       "      <td>495.601001</td>\n",
       "    </tr>\n",
       "    <tr>\n",
       "      <th>14</th>\n",
       "      <td>558</td>\n",
       "      <td>48</td>\n",
       "      <td>783.11</td>\n",
       "      <td>1080.234240</td>\n",
       "    </tr>\n",
       "    <tr>\n",
       "      <th>15</th>\n",
       "      <td>80</td>\n",
       "      <td>6</td>\n",
       "      <td>156.10</td>\n",
       "      <td>156.374572</td>\n",
       "    </tr>\n",
       "    <tr>\n",
       "      <th>16</th>\n",
       "      <td>32</td>\n",
       "      <td>1</td>\n",
       "      <td>350.40</td>\n",
       "      <td>62.734073</td>\n",
       "    </tr>\n",
       "    <tr>\n",
       "      <th>17</th>\n",
       "      <td>138</td>\n",
       "      <td>11</td>\n",
       "      <td>369.50</td>\n",
       "      <td>268.367942</td>\n",
       "    </tr>\n",
       "    <tr>\n",
       "      <th>18</th>\n",
       "      <td>51</td>\n",
       "      <td>5</td>\n",
       "      <td>115.65</td>\n",
       "      <td>102.041902</td>\n",
       "    </tr>\n",
       "    <tr>\n",
       "      <th>19</th>\n",
       "      <td>190</td>\n",
       "      <td>13</td>\n",
       "      <td>489.60</td>\n",
       "      <td>366.021559</td>\n",
       "    </tr>\n",
       "    <tr>\n",
       "      <th>20</th>\n",
       "      <td>108</td>\n",
       "      <td>14</td>\n",
       "      <td>226.14</td>\n",
       "      <td>216.637359</td>\n",
       "    </tr>\n",
       "    <tr>\n",
       "      <th>21</th>\n",
       "      <td>103</td>\n",
       "      <td>11</td>\n",
       "      <td>277.05</td>\n",
       "      <td>204.132893</td>\n",
       "    </tr>\n",
       "    <tr>\n",
       "      <th>22</th>\n",
       "      <td>71</td>\n",
       "      <td>8</td>\n",
       "      <td>101.55</td>\n",
       "      <td>142.075675</td>\n",
       "    </tr>\n",
       "    <tr>\n",
       "      <th>23</th>\n",
       "      <td>198</td>\n",
       "      <td>64</td>\n",
       "      <td>532.43</td>\n",
       "      <td>437.280374</td>\n",
       "    </tr>\n",
       "    <tr>\n",
       "      <th>24</th>\n",
       "      <td>134</td>\n",
       "      <td>12</td>\n",
       "      <td>430.60</td>\n",
       "      <td>262.136137</td>\n",
       "    </tr>\n",
       "    <tr>\n",
       "      <th>25</th>\n",
       "      <td>107</td>\n",
       "      <td>14</td>\n",
       "      <td>358.25</td>\n",
       "      <td>214.802072</td>\n",
       "    </tr>\n",
       "    <tr>\n",
       "      <th>26</th>\n",
       "      <td>1852</td>\n",
       "      <td>73</td>\n",
       "      <td>1919.14</td>\n",
       "      <td>3482.829354</td>\n",
       "    </tr>\n",
       "    <tr>\n",
       "      <th>27</th>\n",
       "      <td>162</td>\n",
       "      <td>18</td>\n",
       "      <td>443.96</td>\n",
       "      <td>320.180237</td>\n",
       "    </tr>\n",
       "    <tr>\n",
       "      <th>28</th>\n",
       "      <td>256</td>\n",
       "      <td>13</td>\n",
       "      <td>799.40</td>\n",
       "      <td>487.150509</td>\n",
       "    </tr>\n",
       "  </tbody>\n",
       "</table>\n",
       "</div>"
      ],
      "text/plain": [
       "    Quantity  frequency  Actual_amt  Predicted_amt\n",
       "0        188         17      355.84     366.788359\n",
       "1         71         34      163.34     170.918606\n",
       "2         97          2      192.60     183.137079\n",
       "3         24          1       34.80      48.051776\n",
       "4         19          5       81.75      43.312715\n",
       "5        102         15      223.90     206.734980\n",
       "6         38          9      161.00      82.620544\n",
       "7        228         59      390.79     486.792270\n",
       "8        144          8      256.44     276.051634\n",
       "9        449         20      855.86     849.126326\n",
       "10       113         48      274.93     263.531473\n",
       "11       111         14      233.45     222.143220\n",
       "12       157         15      261.48     307.675771\n",
       "13       260         14      507.88     495.601001\n",
       "14       558         48      783.11    1080.234240\n",
       "15        80          6      156.10     156.374572\n",
       "16        32          1      350.40      62.734073\n",
       "17       138         11      369.50     268.367942\n",
       "18        51          5      115.65     102.041902\n",
       "19       190         13      489.60     366.021559\n",
       "20       108         14      226.14     216.637359\n",
       "21       103         11      277.05     204.132893\n",
       "22        71          8      101.55     142.075675\n",
       "23       198         64      532.43     437.280374\n",
       "24       134         12      430.60     262.136137\n",
       "25       107         14      358.25     214.802072\n",
       "26      1852         73     1919.14    3482.829354\n",
       "27       162         18      443.96     320.180237\n",
       "28       256         13      799.40     487.150509"
      ]
     },
     "execution_count": 16,
     "metadata": {},
     "output_type": "execute_result"
    }
   ],
   "source": [
    "# converting the test data prediction and other important features into a dataframe\n",
    "df_test = pd.DataFrame({'Quantity':np.array(X_test['Quantity']).flatten(), 'frequency':np.array(X_test['frequency']).flatten(),'Actual_amt': y_test_arr.flatten(), 'Predicted_amt': y_pred.flatten()})\n",
    "df_test"
   ]
  },
  {
   "cell_type": "code",
   "execution_count": 17,
   "metadata": {},
   "outputs": [
    {
     "data": {
      "text/plain": [
       "(29, 4)"
      ]
     },
     "execution_count": 17,
     "metadata": {},
     "output_type": "execute_result"
    }
   ],
   "source": [
    "df_test.shape"
   ]
  },
  {
   "cell_type": "code",
   "execution_count": 18,
   "metadata": {},
   "outputs": [],
   "source": [
    "# train data predictions\n",
    "y_train_pred = regressor.predict(X_train)"
   ]
  },
  {
   "cell_type": "code",
   "execution_count": 19,
   "metadata": {
    "collapsed": true
   },
   "outputs": [
    {
     "data": {
      "text/html": [
       "<div>\n",
       "<style scoped>\n",
       "    .dataframe tbody tr th:only-of-type {\n",
       "        vertical-align: middle;\n",
       "    }\n",
       "\n",
       "    .dataframe tbody tr th {\n",
       "        vertical-align: top;\n",
       "    }\n",
       "\n",
       "    .dataframe thead th {\n",
       "        text-align: right;\n",
       "    }\n",
       "</style>\n",
       "<table border=\"1\" class=\"dataframe\">\n",
       "  <thead>\n",
       "    <tr style=\"text-align: right;\">\n",
       "      <th></th>\n",
       "      <th>Quantity</th>\n",
       "      <th>frequency</th>\n",
       "      <th>Actual_amt</th>\n",
       "      <th>Predicted_amt</th>\n",
       "    </tr>\n",
       "  </thead>\n",
       "  <tbody>\n",
       "    <tr>\n",
       "      <th>0</th>\n",
       "      <td>71</td>\n",
       "      <td>22</td>\n",
       "      <td>200.50</td>\n",
       "      <td>157.606484</td>\n",
       "    </tr>\n",
       "    <tr>\n",
       "      <th>1</th>\n",
       "      <td>2</td>\n",
       "      <td>1</td>\n",
       "      <td>19.90</td>\n",
       "      <td>7.675460</td>\n",
       "    </tr>\n",
       "    <tr>\n",
       "      <th>2</th>\n",
       "      <td>544</td>\n",
       "      <td>11</td>\n",
       "      <td>1024.68</td>\n",
       "      <td>1013.494511</td>\n",
       "    </tr>\n",
       "    <tr>\n",
       "      <th>3</th>\n",
       "      <td>124</td>\n",
       "      <td>64</td>\n",
       "      <td>354.23</td>\n",
       "      <td>301.469127</td>\n",
       "    </tr>\n",
       "    <tr>\n",
       "      <th>4</th>\n",
       "      <td>1568</td>\n",
       "      <td>24</td>\n",
       "      <td>1825.74</td>\n",
       "      <td>2907.249982</td>\n",
       "    </tr>\n",
       "    <tr>\n",
       "      <th>...</th>\n",
       "      <td>...</td>\n",
       "      <td>...</td>\n",
       "      <td>...</td>\n",
       "      <td>...</td>\n",
       "    </tr>\n",
       "    <tr>\n",
       "      <th>61</th>\n",
       "      <td>95</td>\n",
       "      <td>3</td>\n",
       "      <td>165.05</td>\n",
       "      <td>180.575848</td>\n",
       "    </tr>\n",
       "    <tr>\n",
       "      <th>62</th>\n",
       "      <td>103</td>\n",
       "      <td>10</td>\n",
       "      <td>318.14</td>\n",
       "      <td>203.023550</td>\n",
       "    </tr>\n",
       "    <tr>\n",
       "      <th>63</th>\n",
       "      <td>151</td>\n",
       "      <td>81</td>\n",
       "      <td>265.10</td>\n",
       "      <td>369.880719</td>\n",
       "    </tr>\n",
       "    <tr>\n",
       "      <th>64</th>\n",
       "      <td>198</td>\n",
       "      <td>35</td>\n",
       "      <td>449.98</td>\n",
       "      <td>405.109413</td>\n",
       "    </tr>\n",
       "    <tr>\n",
       "      <th>65</th>\n",
       "      <td>74</td>\n",
       "      <td>14</td>\n",
       "      <td>205.86</td>\n",
       "      <td>154.237597</td>\n",
       "    </tr>\n",
       "  </tbody>\n",
       "</table>\n",
       "<p>66 rows × 4 columns</p>\n",
       "</div>"
      ],
      "text/plain": [
       "    Quantity  frequency  Actual_amt  Predicted_amt\n",
       "0         71         22      200.50     157.606484\n",
       "1          2          1       19.90       7.675460\n",
       "2        544         11     1024.68    1013.494511\n",
       "3        124         64      354.23     301.469127\n",
       "4       1568         24     1825.74    2907.249982\n",
       "..       ...        ...         ...            ...\n",
       "61        95          3      165.05     180.575848\n",
       "62       103         10      318.14     203.023550\n",
       "63       151         81      265.10     369.880719\n",
       "64       198         35      449.98     405.109413\n",
       "65        74         14      205.86     154.237597\n",
       "\n",
       "[66 rows x 4 columns]"
      ]
     },
     "execution_count": 19,
     "metadata": {},
     "output_type": "execute_result"
    }
   ],
   "source": [
    "# converting the train data prediction and other important features into a dataframe\n",
    "df_train = pd.DataFrame({'Quantity':np.array(X_train['Quantity']).flatten(), 'frequency':np.array(X_train['frequency']).flatten(),'Actual_amt': np.array(y_train['Amount']).flatten(), 'Predicted_amt': y_train_pred.flatten()})\n",
    "df_train"
   ]
  },
  {
   "cell_type": "code",
   "execution_count": 20,
   "metadata": {},
   "outputs": [
    {
     "data": {
      "text/plain": [
       "(66, 4)"
      ]
     },
     "execution_count": 20,
     "metadata": {},
     "output_type": "execute_result"
    }
   ],
   "source": [
    "df_train.shape"
   ]
  },
  {
   "cell_type": "code",
   "execution_count": 21,
   "metadata": {},
   "outputs": [
    {
     "data": {
      "text/plain": [
       "(95, 4)"
      ]
     },
     "execution_count": 21,
     "metadata": {},
     "output_type": "execute_result"
    }
   ],
   "source": [
    "# combinig test and train data prediction tables into one final table\n",
    "df_1_pred = df_train.append(df_test)\n",
    "df_1_pred.shape"
   ]
  },
  {
   "cell_type": "code",
   "execution_count": 23,
   "metadata": {},
   "outputs": [
    {
     "data": {
      "text/plain": [
       "(95, 4)"
      ]
     },
     "execution_count": 23,
     "metadata": {},
     "output_type": "execute_result"
    }
   ],
   "source": [
    "df_1_pred['Predicted_amt'] = df_1_pred['Predicted_amt'].apply(abs)\n",
    "df_1_pred.shape"
   ]
  },
  {
   "cell_type": "code",
   "execution_count": 40,
   "metadata": {},
   "outputs": [
    {
     "data": {
      "text/plain": [
       "False"
      ]
     },
     "execution_count": 40,
     "metadata": {},
     "output_type": "execute_result"
    }
   ],
   "source": [
    "(df_1_pred < 0).values.any()"
   ]
  },
  {
   "cell_type": "code",
   "execution_count": 41,
   "metadata": {},
   "outputs": [],
   "source": [
    "# saving prediction results for date 2010-12-01\n",
    "df_1_pred.to_csv(r'C:/Users/KodavaliPavanKumar/Desktop/Training/github_folders/Projects/MM_Sample/Data/df_2010_12_01_pred.csv', index=False)"
   ]
  },
  {
   "cell_type": "markdown",
   "metadata": {},
   "source": [
    "## for 2010-12-02"
   ]
  },
  {
   "cell_type": "code",
   "execution_count": 24,
   "metadata": {},
   "outputs": [],
   "source": [
    "# seperating target and input\n",
    "X_2 = df_2[['Quantity','frequency']]\n",
    "y_2 = df_2[['Amount']]"
   ]
  },
  {
   "cell_type": "code",
   "execution_count": 25,
   "metadata": {},
   "outputs": [
    {
     "name": "stdout",
     "output_type": "stream",
     "text": [
      "(68, 2) (30, 2) (68, 1) (30, 1)\n"
     ]
    }
   ],
   "source": [
    "# test and train split\n",
    "X_train, X_test, y_train, y_test = train_test_split(X_2, y_2, test_size=0.3)\n",
    "print(X_train.shape, X_test.shape, y_train.shape, y_test.shape)"
   ]
  },
  {
   "cell_type": "code",
   "execution_count": 26,
   "metadata": {},
   "outputs": [
    {
     "data": {
      "text/plain": [
       "LinearRegression()"
      ]
     },
     "execution_count": 26,
     "metadata": {},
     "output_type": "execute_result"
    }
   ],
   "source": [
    "# creating model object\n",
    "regressor = LinearRegression()  \n",
    "regressor.fit(X_train, y_train)"
   ]
  },
  {
   "cell_type": "code",
   "execution_count": 27,
   "metadata": {},
   "outputs": [
    {
     "name": "stdout",
     "output_type": "stream",
     "text": [
      "[-103.48937163]\n",
      "[[1.54016559 7.31055185]]\n"
     ]
    }
   ],
   "source": [
    "#To retrieve the intercept:\n",
    "print(regressor.intercept_)\n",
    "\n",
    "#For retrieving the slope:\n",
    "print(regressor.coef_)"
   ]
  },
  {
   "cell_type": "code",
   "execution_count": 28,
   "metadata": {},
   "outputs": [],
   "source": [
    "# test data predictions\n",
    "y_pred = regressor.predict(X_test)"
   ]
  },
  {
   "cell_type": "code",
   "execution_count": 29,
   "metadata": {
    "collapsed": true
   },
   "outputs": [
    {
     "data": {
      "text/plain": [
       "array([[ 248.1 ],\n",
       "       [  22.5 ],\n",
       "       [ 308.28],\n",
       "       [ 321.79],\n",
       "       [ 295.  ],\n",
       "       [  50.55],\n",
       "       [ 136.2 ],\n",
       "       [ 623.73],\n",
       "       [ 341.9 ],\n",
       "       [ 339.84],\n",
       "       [ 127.2 ],\n",
       "       [ 517.95],\n",
       "       [ 160.6 ],\n",
       "       [ 193.23],\n",
       "       [ 204.15],\n",
       "       [ 413.44],\n",
       "       [ 272.65],\n",
       "       [ 247.8 ],\n",
       "       [ 127.55],\n",
       "       [ 259.65],\n",
       "       [ 299.4 ],\n",
       "       [ 288.5 ],\n",
       "       [ 201.75],\n",
       "       [1036.08],\n",
       "       [ 303.97],\n",
       "       [ 116.  ],\n",
       "       [ 572.38],\n",
       "       [2002.4 ],\n",
       "       [ 312.8 ],\n",
       "       [ 244.08]])"
      ]
     },
     "execution_count": 29,
     "metadata": {},
     "output_type": "execute_result"
    }
   ],
   "source": [
    "y_test_arr = np.array(y_test)\n",
    "y_test_arr"
   ]
  },
  {
   "cell_type": "code",
   "execution_count": 30,
   "metadata": {
    "collapsed": true
   },
   "outputs": [
    {
     "data": {
      "text/html": [
       "<div>\n",
       "<style scoped>\n",
       "    .dataframe tbody tr th:only-of-type {\n",
       "        vertical-align: middle;\n",
       "    }\n",
       "\n",
       "    .dataframe tbody tr th {\n",
       "        vertical-align: top;\n",
       "    }\n",
       "\n",
       "    .dataframe thead th {\n",
       "        text-align: right;\n",
       "    }\n",
       "</style>\n",
       "<table border=\"1\" class=\"dataframe\">\n",
       "  <thead>\n",
       "    <tr style=\"text-align: right;\">\n",
       "      <th></th>\n",
       "      <th>Quantity</th>\n",
       "      <th>frequency</th>\n",
       "      <th>Actual_amt</th>\n",
       "      <th>Predicted_amt</th>\n",
       "    </tr>\n",
       "  </thead>\n",
       "  <tbody>\n",
       "    <tr>\n",
       "      <th>0</th>\n",
       "      <td>92</td>\n",
       "      <td>13</td>\n",
       "      <td>248.10</td>\n",
       "      <td>133.243036</td>\n",
       "    </tr>\n",
       "    <tr>\n",
       "      <th>1</th>\n",
       "      <td>6</td>\n",
       "      <td>1</td>\n",
       "      <td>22.50</td>\n",
       "      <td>-86.937826</td>\n",
       "    </tr>\n",
       "    <tr>\n",
       "      <th>2</th>\n",
       "      <td>190</td>\n",
       "      <td>17</td>\n",
       "      <td>308.28</td>\n",
       "      <td>313.421471</td>\n",
       "    </tr>\n",
       "    <tr>\n",
       "      <th>3</th>\n",
       "      <td>93</td>\n",
       "      <td>57</td>\n",
       "      <td>321.79</td>\n",
       "      <td>456.447483</td>\n",
       "    </tr>\n",
       "    <tr>\n",
       "      <th>4</th>\n",
       "      <td>1</td>\n",
       "      <td>1</td>\n",
       "      <td>295.00</td>\n",
       "      <td>-94.638654</td>\n",
       "    </tr>\n",
       "    <tr>\n",
       "      <th>5</th>\n",
       "      <td>13</td>\n",
       "      <td>3</td>\n",
       "      <td>50.55</td>\n",
       "      <td>-61.535563</td>\n",
       "    </tr>\n",
       "    <tr>\n",
       "      <th>6</th>\n",
       "      <td>132</td>\n",
       "      <td>5</td>\n",
       "      <td>136.20</td>\n",
       "      <td>136.365245</td>\n",
       "    </tr>\n",
       "    <tr>\n",
       "      <th>7</th>\n",
       "      <td>879</td>\n",
       "      <td>16</td>\n",
       "      <td>623.73</td>\n",
       "      <td>1367.285009</td>\n",
       "    </tr>\n",
       "    <tr>\n",
       "      <th>8</th>\n",
       "      <td>126</td>\n",
       "      <td>10</td>\n",
       "      <td>341.90</td>\n",
       "      <td>163.677011</td>\n",
       "    </tr>\n",
       "    <tr>\n",
       "      <th>9</th>\n",
       "      <td>504</td>\n",
       "      <td>8</td>\n",
       "      <td>339.84</td>\n",
       "      <td>731.238499</td>\n",
       "    </tr>\n",
       "    <tr>\n",
       "      <th>10</th>\n",
       "      <td>40</td>\n",
       "      <td>4</td>\n",
       "      <td>127.20</td>\n",
       "      <td>-12.640541</td>\n",
       "    </tr>\n",
       "    <tr>\n",
       "      <th>11</th>\n",
       "      <td>244</td>\n",
       "      <td>27</td>\n",
       "      <td>517.95</td>\n",
       "      <td>469.695931</td>\n",
       "    </tr>\n",
       "    <tr>\n",
       "      <th>12</th>\n",
       "      <td>76</td>\n",
       "      <td>4</td>\n",
       "      <td>160.60</td>\n",
       "      <td>42.805420</td>\n",
       "    </tr>\n",
       "    <tr>\n",
       "      <th>13</th>\n",
       "      <td>125</td>\n",
       "      <td>14</td>\n",
       "      <td>193.23</td>\n",
       "      <td>191.379053</td>\n",
       "    </tr>\n",
       "    <tr>\n",
       "      <th>14</th>\n",
       "      <td>105</td>\n",
       "      <td>18</td>\n",
       "      <td>204.15</td>\n",
       "      <td>189.817948</td>\n",
       "    </tr>\n",
       "    <tr>\n",
       "      <th>15</th>\n",
       "      <td>316</td>\n",
       "      <td>73</td>\n",
       "      <td>413.44</td>\n",
       "      <td>916.873239</td>\n",
       "    </tr>\n",
       "    <tr>\n",
       "      <th>16</th>\n",
       "      <td>107</td>\n",
       "      <td>15</td>\n",
       "      <td>272.65</td>\n",
       "      <td>170.966624</td>\n",
       "    </tr>\n",
       "    <tr>\n",
       "      <th>17</th>\n",
       "      <td>64</td>\n",
       "      <td>12</td>\n",
       "      <td>247.80</td>\n",
       "      <td>82.807848</td>\n",
       "    </tr>\n",
       "    <tr>\n",
       "      <th>18</th>\n",
       "      <td>45</td>\n",
       "      <td>29</td>\n",
       "      <td>127.55</td>\n",
       "      <td>177.824083</td>\n",
       "    </tr>\n",
       "    <tr>\n",
       "      <th>19</th>\n",
       "      <td>153</td>\n",
       "      <td>14</td>\n",
       "      <td>259.65</td>\n",
       "      <td>234.503689</td>\n",
       "    </tr>\n",
       "    <tr>\n",
       "      <th>20</th>\n",
       "      <td>156</td>\n",
       "      <td>6</td>\n",
       "      <td>299.40</td>\n",
       "      <td>180.639771</td>\n",
       "    </tr>\n",
       "    <tr>\n",
       "      <th>21</th>\n",
       "      <td>106</td>\n",
       "      <td>16</td>\n",
       "      <td>288.50</td>\n",
       "      <td>176.737010</td>\n",
       "    </tr>\n",
       "    <tr>\n",
       "      <th>22</th>\n",
       "      <td>31</td>\n",
       "      <td>12</td>\n",
       "      <td>201.75</td>\n",
       "      <td>31.982384</td>\n",
       "    </tr>\n",
       "    <tr>\n",
       "      <th>23</th>\n",
       "      <td>1424</td>\n",
       "      <td>6</td>\n",
       "      <td>1036.08</td>\n",
       "      <td>2133.569735</td>\n",
       "    </tr>\n",
       "    <tr>\n",
       "      <th>24</th>\n",
       "      <td>93</td>\n",
       "      <td>18</td>\n",
       "      <td>303.97</td>\n",
       "      <td>171.335961</td>\n",
       "    </tr>\n",
       "    <tr>\n",
       "      <th>25</th>\n",
       "      <td>26</td>\n",
       "      <td>5</td>\n",
       "      <td>116.00</td>\n",
       "      <td>-26.892307</td>\n",
       "    </tr>\n",
       "    <tr>\n",
       "      <th>26</th>\n",
       "      <td>246</td>\n",
       "      <td>20</td>\n",
       "      <td>572.38</td>\n",
       "      <td>421.602400</td>\n",
       "    </tr>\n",
       "    <tr>\n",
       "      <th>27</th>\n",
       "      <td>4280</td>\n",
       "      <td>2</td>\n",
       "      <td>2002.40</td>\n",
       "      <td>6503.040444</td>\n",
       "    </tr>\n",
       "    <tr>\n",
       "      <th>28</th>\n",
       "      <td>170</td>\n",
       "      <td>21</td>\n",
       "      <td>312.80</td>\n",
       "      <td>311.860367</td>\n",
       "    </tr>\n",
       "    <tr>\n",
       "      <th>29</th>\n",
       "      <td>72</td>\n",
       "      <td>1</td>\n",
       "      <td>244.08</td>\n",
       "      <td>14.713102</td>\n",
       "    </tr>\n",
       "  </tbody>\n",
       "</table>\n",
       "</div>"
      ],
      "text/plain": [
       "    Quantity  frequency  Actual_amt  Predicted_amt\n",
       "0         92         13      248.10     133.243036\n",
       "1          6          1       22.50     -86.937826\n",
       "2        190         17      308.28     313.421471\n",
       "3         93         57      321.79     456.447483\n",
       "4          1          1      295.00     -94.638654\n",
       "5         13          3       50.55     -61.535563\n",
       "6        132          5      136.20     136.365245\n",
       "7        879         16      623.73    1367.285009\n",
       "8        126         10      341.90     163.677011\n",
       "9        504          8      339.84     731.238499\n",
       "10        40          4      127.20     -12.640541\n",
       "11       244         27      517.95     469.695931\n",
       "12        76          4      160.60      42.805420\n",
       "13       125         14      193.23     191.379053\n",
       "14       105         18      204.15     189.817948\n",
       "15       316         73      413.44     916.873239\n",
       "16       107         15      272.65     170.966624\n",
       "17        64         12      247.80      82.807848\n",
       "18        45         29      127.55     177.824083\n",
       "19       153         14      259.65     234.503689\n",
       "20       156          6      299.40     180.639771\n",
       "21       106         16      288.50     176.737010\n",
       "22        31         12      201.75      31.982384\n",
       "23      1424          6     1036.08    2133.569735\n",
       "24        93         18      303.97     171.335961\n",
       "25        26          5      116.00     -26.892307\n",
       "26       246         20      572.38     421.602400\n",
       "27      4280          2     2002.40    6503.040444\n",
       "28       170         21      312.80     311.860367\n",
       "29        72          1      244.08      14.713102"
      ]
     },
     "execution_count": 30,
     "metadata": {},
     "output_type": "execute_result"
    }
   ],
   "source": [
    "# converting the test data prediction and other important features into a dataframe\n",
    "df_test = pd.DataFrame({'Quantity':np.array(X_test['Quantity']).flatten(), 'frequency':np.array(X_test['frequency']).flatten(),'Actual_amt': y_test_arr.flatten(), 'Predicted_amt': y_pred.flatten()})\n",
    "df_test"
   ]
  },
  {
   "cell_type": "code",
   "execution_count": 31,
   "metadata": {},
   "outputs": [],
   "source": [
    "# train data predictions\n",
    "y_train_pred = regressor.predict(X_train)"
   ]
  },
  {
   "cell_type": "code",
   "execution_count": 32,
   "metadata": {
    "collapsed": true
   },
   "outputs": [
    {
     "data": {
      "text/html": [
       "<div>\n",
       "<style scoped>\n",
       "    .dataframe tbody tr th:only-of-type {\n",
       "        vertical-align: middle;\n",
       "    }\n",
       "\n",
       "    .dataframe tbody tr th {\n",
       "        vertical-align: top;\n",
       "    }\n",
       "\n",
       "    .dataframe thead th {\n",
       "        text-align: right;\n",
       "    }\n",
       "</style>\n",
       "<table border=\"1\" class=\"dataframe\">\n",
       "  <thead>\n",
       "    <tr style=\"text-align: right;\">\n",
       "      <th></th>\n",
       "      <th>Quantity</th>\n",
       "      <th>frequency</th>\n",
       "      <th>Actual_amt</th>\n",
       "      <th>Predicted_amt</th>\n",
       "    </tr>\n",
       "  </thead>\n",
       "  <tbody>\n",
       "    <tr>\n",
       "      <th>0</th>\n",
       "      <td>741</td>\n",
       "      <td>23</td>\n",
       "      <td>485.25</td>\n",
       "      <td>1205.916021</td>\n",
       "    </tr>\n",
       "    <tr>\n",
       "      <th>1</th>\n",
       "      <td>96</td>\n",
       "      <td>4</td>\n",
       "      <td>322.80</td>\n",
       "      <td>73.608732</td>\n",
       "    </tr>\n",
       "    <tr>\n",
       "      <th>2</th>\n",
       "      <td>142</td>\n",
       "      <td>50</td>\n",
       "      <td>210.24</td>\n",
       "      <td>480.741734</td>\n",
       "    </tr>\n",
       "    <tr>\n",
       "      <th>3</th>\n",
       "      <td>441</td>\n",
       "      <td>38</td>\n",
       "      <td>786.78</td>\n",
       "      <td>853.524622</td>\n",
       "    </tr>\n",
       "    <tr>\n",
       "      <th>4</th>\n",
       "      <td>298</td>\n",
       "      <td>10</td>\n",
       "      <td>350.06</td>\n",
       "      <td>428.585492</td>\n",
       "    </tr>\n",
       "    <tr>\n",
       "      <th>...</th>\n",
       "      <td>...</td>\n",
       "      <td>...</td>\n",
       "      <td>...</td>\n",
       "      <td>...</td>\n",
       "    </tr>\n",
       "    <tr>\n",
       "      <th>63</th>\n",
       "      <td>384</td>\n",
       "      <td>20</td>\n",
       "      <td>406.56</td>\n",
       "      <td>634.145251</td>\n",
       "    </tr>\n",
       "    <tr>\n",
       "      <th>64</th>\n",
       "      <td>64</td>\n",
       "      <td>14</td>\n",
       "      <td>306.20</td>\n",
       "      <td>97.428952</td>\n",
       "    </tr>\n",
       "    <tr>\n",
       "      <th>65</th>\n",
       "      <td>2097</td>\n",
       "      <td>3</td>\n",
       "      <td>1835.01</td>\n",
       "      <td>3148.169520</td>\n",
       "    </tr>\n",
       "    <tr>\n",
       "      <th>66</th>\n",
       "      <td>160</td>\n",
       "      <td>1</td>\n",
       "      <td>408.00</td>\n",
       "      <td>150.247674</td>\n",
       "    </tr>\n",
       "    <tr>\n",
       "      <th>67</th>\n",
       "      <td>174</td>\n",
       "      <td>22</td>\n",
       "      <td>393.42</td>\n",
       "      <td>325.331581</td>\n",
       "    </tr>\n",
       "  </tbody>\n",
       "</table>\n",
       "<p>68 rows × 4 columns</p>\n",
       "</div>"
      ],
      "text/plain": [
       "    Quantity  frequency  Actual_amt  Predicted_amt\n",
       "0        741         23      485.25    1205.916021\n",
       "1         96          4      322.80      73.608732\n",
       "2        142         50      210.24     480.741734\n",
       "3        441         38      786.78     853.524622\n",
       "4        298         10      350.06     428.585492\n",
       "..       ...        ...         ...            ...\n",
       "63       384         20      406.56     634.145251\n",
       "64        64         14      306.20      97.428952\n",
       "65      2097          3     1835.01    3148.169520\n",
       "66       160          1      408.00     150.247674\n",
       "67       174         22      393.42     325.331581\n",
       "\n",
       "[68 rows x 4 columns]"
      ]
     },
     "execution_count": 32,
     "metadata": {},
     "output_type": "execute_result"
    }
   ],
   "source": [
    "# converting the train data prediction and other important features into a dataframe\n",
    "df_train = pd.DataFrame({'Quantity':np.array(X_train['Quantity']).flatten(), 'frequency':np.array(X_train['frequency']).flatten(),'Actual_amt': np.array(y_train['Amount']).flatten(), 'Predicted_amt': y_train_pred.flatten()})\n",
    "df_train"
   ]
  },
  {
   "cell_type": "code",
   "execution_count": 36,
   "metadata": {},
   "outputs": [
    {
     "data": {
      "text/plain": [
       "(98, 4)"
      ]
     },
     "execution_count": 36,
     "metadata": {},
     "output_type": "execute_result"
    }
   ],
   "source": [
    "# combinig test and train data prediction tables into one final table\n",
    "df_2_pred = df_train.append(df_test)\n",
    "df_2_pred.shape"
   ]
  },
  {
   "cell_type": "code",
   "execution_count": 37,
   "metadata": {},
   "outputs": [
    {
     "data": {
      "text/plain": [
       "(98, 4)"
      ]
     },
     "execution_count": 37,
     "metadata": {},
     "output_type": "execute_result"
    }
   ],
   "source": [
    "df_2_pred['Predicted_amt'] = df_2_pred['Predicted_amt'].apply(abs)\n",
    "df_2_pred.shape"
   ]
  },
  {
   "cell_type": "code",
   "execution_count": 38,
   "metadata": {
    "collapsed": true
   },
   "outputs": [
    {
     "data": {
      "text/html": [
       "<div>\n",
       "<style scoped>\n",
       "    .dataframe tbody tr th:only-of-type {\n",
       "        vertical-align: middle;\n",
       "    }\n",
       "\n",
       "    .dataframe tbody tr th {\n",
       "        vertical-align: top;\n",
       "    }\n",
       "\n",
       "    .dataframe thead th {\n",
       "        text-align: right;\n",
       "    }\n",
       "</style>\n",
       "<table border=\"1\" class=\"dataframe\">\n",
       "  <thead>\n",
       "    <tr style=\"text-align: right;\">\n",
       "      <th></th>\n",
       "      <th>Quantity</th>\n",
       "      <th>frequency</th>\n",
       "      <th>Actual_amt</th>\n",
       "      <th>Predicted_amt</th>\n",
       "    </tr>\n",
       "  </thead>\n",
       "  <tbody>\n",
       "    <tr>\n",
       "      <th>0</th>\n",
       "      <td>741</td>\n",
       "      <td>23</td>\n",
       "      <td>485.25</td>\n",
       "      <td>1205.916021</td>\n",
       "    </tr>\n",
       "    <tr>\n",
       "      <th>1</th>\n",
       "      <td>96</td>\n",
       "      <td>4</td>\n",
       "      <td>322.80</td>\n",
       "      <td>73.608732</td>\n",
       "    </tr>\n",
       "    <tr>\n",
       "      <th>2</th>\n",
       "      <td>142</td>\n",
       "      <td>50</td>\n",
       "      <td>210.24</td>\n",
       "      <td>480.741734</td>\n",
       "    </tr>\n",
       "    <tr>\n",
       "      <th>3</th>\n",
       "      <td>441</td>\n",
       "      <td>38</td>\n",
       "      <td>786.78</td>\n",
       "      <td>853.524622</td>\n",
       "    </tr>\n",
       "    <tr>\n",
       "      <th>4</th>\n",
       "      <td>298</td>\n",
       "      <td>10</td>\n",
       "      <td>350.06</td>\n",
       "      <td>428.585492</td>\n",
       "    </tr>\n",
       "    <tr>\n",
       "      <th>...</th>\n",
       "      <td>...</td>\n",
       "      <td>...</td>\n",
       "      <td>...</td>\n",
       "      <td>...</td>\n",
       "    </tr>\n",
       "    <tr>\n",
       "      <th>25</th>\n",
       "      <td>26</td>\n",
       "      <td>5</td>\n",
       "      <td>116.00</td>\n",
       "      <td>26.892307</td>\n",
       "    </tr>\n",
       "    <tr>\n",
       "      <th>26</th>\n",
       "      <td>246</td>\n",
       "      <td>20</td>\n",
       "      <td>572.38</td>\n",
       "      <td>421.602400</td>\n",
       "    </tr>\n",
       "    <tr>\n",
       "      <th>27</th>\n",
       "      <td>4280</td>\n",
       "      <td>2</td>\n",
       "      <td>2002.40</td>\n",
       "      <td>6503.040444</td>\n",
       "    </tr>\n",
       "    <tr>\n",
       "      <th>28</th>\n",
       "      <td>170</td>\n",
       "      <td>21</td>\n",
       "      <td>312.80</td>\n",
       "      <td>311.860367</td>\n",
       "    </tr>\n",
       "    <tr>\n",
       "      <th>29</th>\n",
       "      <td>72</td>\n",
       "      <td>1</td>\n",
       "      <td>244.08</td>\n",
       "      <td>14.713102</td>\n",
       "    </tr>\n",
       "  </tbody>\n",
       "</table>\n",
       "<p>98 rows × 4 columns</p>\n",
       "</div>"
      ],
      "text/plain": [
       "    Quantity  frequency  Actual_amt  Predicted_amt\n",
       "0        741         23      485.25    1205.916021\n",
       "1         96          4      322.80      73.608732\n",
       "2        142         50      210.24     480.741734\n",
       "3        441         38      786.78     853.524622\n",
       "4        298         10      350.06     428.585492\n",
       "..       ...        ...         ...            ...\n",
       "25        26          5      116.00      26.892307\n",
       "26       246         20      572.38     421.602400\n",
       "27      4280          2     2002.40    6503.040444\n",
       "28       170         21      312.80     311.860367\n",
       "29        72          1      244.08      14.713102\n",
       "\n",
       "[98 rows x 4 columns]"
      ]
     },
     "execution_count": 38,
     "metadata": {},
     "output_type": "execute_result"
    }
   ],
   "source": [
    "df_2_pred"
   ]
  },
  {
   "cell_type": "code",
   "execution_count": 39,
   "metadata": {},
   "outputs": [
    {
     "data": {
      "text/plain": [
       "False"
      ]
     },
     "execution_count": 39,
     "metadata": {},
     "output_type": "execute_result"
    }
   ],
   "source": [
    "(df_2_pred < 0).values.any()"
   ]
  },
  {
   "cell_type": "code",
   "execution_count": 42,
   "metadata": {},
   "outputs": [],
   "source": [
    "# saving prediction results for date 2010-12-02\n",
    "df_2_pred.to_csv(r'C:/Users/KodavaliPavanKumar/Desktop/Training/github_folders/Projects/MM_Sample/Data/df_2010_12_02_pred.csv', index=False)"
   ]
  }
 ],
 "metadata": {
  "kernelspec": {
   "display_name": "Python 3",
   "language": "python",
   "name": "python3"
  },
  "language_info": {
   "codemirror_mode": {
    "name": "ipython",
    "version": 3
   },
   "file_extension": ".py",
   "mimetype": "text/x-python",
   "name": "python",
   "nbconvert_exporter": "python",
   "pygments_lexer": "ipython3",
   "version": "3.7.5"
  }
 },
 "nbformat": 4,
 "nbformat_minor": 2
}
